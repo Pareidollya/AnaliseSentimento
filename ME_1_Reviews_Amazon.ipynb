{
  "cells": [
    {
      "cell_type": "markdown",
      "metadata": {
        "id": "view-in-github",
        "colab_type": "text"
      },
      "source": [
        "<a href=\"https://colab.research.google.com/github/Pareidollya/AnaliseSentimento/blob/main/ME_1_Reviews_Amazon.ipynb\" target=\"_parent\"><img src=\"https://colab.research.google.com/assets/colab-badge.svg\" alt=\"Open In Colab\"/></a>"
      ]
    },
    {
      "cell_type": "markdown",
      "metadata": {
        "id": "0Ydf6mKvzqu3"
      },
      "source": [
        "## Instalação, Configurações e Imports"
      ]
    },
    {
      "cell_type": "code",
      "execution_count": null,
      "metadata": {
        "colab": {
          "base_uri": "https://localhost:8080/"
        },
        "id": "iFTY2klWz92Q",
        "outputId": "8d5c0f73-d607-4e17-8d96-f4610fa26a25"
      },
      "outputs": [
        {
          "name": "stdout",
          "output_type": "stream",
          "text": [
            "Mounted at /content/drive\n"
          ]
        }
      ],
      "source": [
        "# Configuração do drive com as base de dados\n",
        "from google.colab import drive\n",
        "\n",
        "drive.mount('/content/drive')\n",
        "data_path = '/content/drive/MyDrive/BIG DATA/datasets/'"
      ]
    },
    {
      "cell_type": "code",
      "execution_count": null,
      "metadata": {
        "colab": {
          "base_uri": "https://localhost:8080/"
        },
        "id": "DmDYuDTNvUNU",
        "outputId": "668c6c89-7dcc-4350-c7f4-8c4d8fa322d2"
      },
      "outputs": [
        {
          "name": "stdout",
          "output_type": "stream",
          "text": [
            "Looking in indexes: https://pypi.org/simple, https://us-python.pkg.dev/colab-wheels/public/simple/\n",
            "Collecting pyspark\n",
            "  Downloading pyspark-3.4.0.tar.gz (310.8 MB)\n",
            "\u001b[2K     \u001b[90m━━━━━━━━━━━━━━━━━━━━━━━━━━━━━━━━━━━━━━━\u001b[0m \u001b[32m310.8/310.8 MB\u001b[0m \u001b[31m4.2 MB/s\u001b[0m eta \u001b[36m0:00:00\u001b[0m\n",
            "\u001b[?25h  Preparing metadata (setup.py) ... \u001b[?25l\u001b[?25hdone\n",
            "Requirement already satisfied: py4j==0.10.9.7 in /usr/local/lib/python3.9/dist-packages (from pyspark) (0.10.9.7)\n",
            "Building wheels for collected packages: pyspark\n",
            "  Building wheel for pyspark (setup.py) ... \u001b[?25l\u001b[?25hdone\n",
            "  Created wheel for pyspark: filename=pyspark-3.4.0-py2.py3-none-any.whl size=311317145 sha256=1e3c69c62f8120520868b2bffd2c8f531a1349c362748e4c58c8897893acd940\n",
            "  Stored in directory: /root/.cache/pip/wheels/9f/34/a4/159aa12d0a510d5ff7c8f0220abbea42e5d81ecf588c4fd884\n",
            "Successfully built pyspark\n",
            "Installing collected packages: pyspark\n",
            "Successfully installed pyspark-3.4.0\n"
          ]
        }
      ],
      "source": [
        "# Instalação do PySpark\n",
        "!pip install pyspark"
      ]
    },
    {
      "cell_type": "code",
      "execution_count": null,
      "metadata": {
        "colab": {
          "base_uri": "https://localhost:8080/"
        },
        "id": "MTy0Q_E6zuR3",
        "outputId": "14105a41-988b-4993-8f1b-94a9c881d6a6"
      },
      "outputs": [
        {
          "name": "stdout",
          "output_type": "stream",
          "text": [
            "Looking in indexes: https://pypi.org/simple, https://us-python.pkg.dev/colab-wheels/public/simple/\n",
            "Collecting spark-nlp\n",
            "  Downloading spark_nlp-4.4.0-py2.py3-none-any.whl (486 kB)\n",
            "\u001b[2K     \u001b[90m━━━━━━━━━━━━━━━━━━━━━━━━━━━━━━━━━━━━━━━\u001b[0m \u001b[32m486.4/486.4 kB\u001b[0m \u001b[31m8.6 MB/s\u001b[0m eta \u001b[36m0:00:00\u001b[0m\n",
            "\u001b[?25hInstalling collected packages: spark-nlp\n",
            "Successfully installed spark-nlp-4.4.0\n"
          ]
        }
      ],
      "source": [
        "# Instalação do Spark-NLP\n",
        "!pip install spark-nlp"
      ]
    },
    {
      "cell_type": "code",
      "execution_count": null,
      "metadata": {
        "id": "E9B9elqe0OxG"
      },
      "outputs": [],
      "source": [
        "# Imports Necessários\n",
        "\n",
        "## Imports do Python\n",
        "from collections import Counter\n",
        "\n",
        "## Imports do PySpark\n",
        "import pyspark.sql.functions as F\n",
        "import pyspark.sql.types as T\n",
        "\n",
        "## Imports do spark-nlp\n",
        "import sparknlp"
      ]
    },
    {
      "cell_type": "code",
      "execution_count": null,
      "metadata": {
        "id": "y5u744PDD0Bm"
      },
      "outputs": [],
      "source": [
        "# Instanciando o Spark com spark-nlp\n",
        "spark = sparknlp.start(gpu=True)"
      ]
    },
    {
      "cell_type": "code",
      "execution_count": null,
      "metadata": {
        "id": "5tAOsEZ70rlz"
      },
      "outputs": [],
      "source": [
        "all_data = (spark\n",
        "            .read\n",
        "            .json(data_path + \"amazon_reviews/Movies_and_TV_5.json\"))"
      ]
    },
    {
      "cell_type": "code",
      "execution_count": null,
      "metadata": {
        "colab": {
          "base_uri": "https://localhost:8080/"
        },
        "id": "UBGiyJqI1xXK",
        "outputId": "65d03163-a004-4bd8-c873-8e84f4d006ee"
      },
      "outputs": [
        {
          "name": "stdout",
          "output_type": "stream",
          "text": [
            "root\n",
            " |-- asin: string (nullable = true)\n",
            " |-- image: array (nullable = true)\n",
            " |    |-- element: string (containsNull = true)\n",
            " |-- overall: double (nullable = true)\n",
            " |-- reviewText: string (nullable = true)\n",
            " |-- reviewTime: string (nullable = true)\n",
            " |-- reviewerID: string (nullable = true)\n",
            " |-- reviewerName: string (nullable = true)\n",
            " |-- style: struct (nullable = true)\n",
            " |    |-- Format:: string (nullable = true)\n",
            " |    |-- Shape:: string (nullable = true)\n",
            " |    |-- Size:: string (nullable = true)\n",
            " |-- summary: string (nullable = true)\n",
            " |-- unixReviewTime: long (nullable = true)\n",
            " |-- verified: boolean (nullable = true)\n",
            " |-- vote: string (nullable = true)\n",
            "\n"
          ]
        }
      ],
      "source": [
        "# Visualizando o schema dos dados\n",
        "all_data.printSchema()"
      ]
    },
    {
      "cell_type": "markdown",
      "metadata": {
        "id": "hI5opGsCfUXQ"
      },
      "source": [
        "#ATIVIDADE - ME 1\n",
        "\n",
        "- **Pergunta 1:** Escolha um produto e faça a análise de como a nota variou ao longo dos anos.\n",
        "- **Pergunta 2:** Cada produto é avaliado por vários usuários, sendo que a depender dessas avaliações, os valores podem sofrer variações muito altas ou não. Utilize alguma estratégia para entender os produtos que a maior e menor variação.\n",
        "- **Pergunta 3:** No notebook foi feita uma análise textual mostrando, para cada produto, as 5 palavras mais citadas nos reviews. Apesar de ser uma informação simples de ser obtida, ela pode nos dar importante informações sobre o produto. No entanto, existem outras informações que podem ser obtidas. Pesquise, utilizando o `spark-nlp` como obter outras informações dos textos que nos ajude a entender melhor os produtos. Escolha pelo menos uma técnica e aplique ao conjunto de dados.\n"
      ]
    },
    {
      "cell_type": "markdown",
      "metadata": {
        "id": "nc3bo1PDjXSY"
      },
      "source": [
        "#PERGUNTA 1 - Análise por período\n"
      ]
    },
    {
      "cell_type": "markdown",
      "metadata": {
        "id": "BDCMy8j5fVsG"
      },
      "source": [
        "Apos as transformações em timestamp, é possivel fazer a filtragem por ano e listar a média do produto por ano em cada linha de uma tabela como resultado. Anos em que o produto não é avaliado também não aparecem."
      ]
    },
    {
      "cell_type": "code",
      "execution_count": null,
      "metadata": {
        "id": "zn91z0Z9uCtJ"
      },
      "outputs": [],
      "source": [
        "#transformações na data\n",
        "\n",
        "my_data = (all_data\n",
        "           .select('asin','overall','reviewText','unixReviewTime','reviewerID') # Filtra os campos de interesse\n",
        "           .withColumn(\"reviewDate\",\n",
        "                       F.date_format(\n",
        "                           F.from_unixtime(F.col(\"unixReviewTime\")),\"yyyy-MM-dd\")) # Cria um campo data em um formato mais adequato para as análises\n",
        "           .drop(F.col('unixReviewTime')) # Remove o campo unixReviewTime que foi substituído pelo campo reviewDate\n",
        ")"
      ]
    },
    {
      "cell_type": "code",
      "execution_count": null,
      "metadata": {
        "id": "86khTR2mDTwO",
        "colab": {
          "base_uri": "https://localhost:8080/"
        },
        "outputId": "97eb1be3-7745-46c9-ada8-ddcc2057c148"
      },
      "outputs": [
        {
          "output_type": "stream",
          "name": "stdout",
          "text": [
            "+----------+----+---------+\n",
            "|      asin| Ano|Avaliação|\n",
            "+----------+----+---------+\n",
            "|0001526863|2010|      5.0|\n",
            "|0001526863|2013|      5.0|\n",
            "|0001526863|2014|      5.0|\n",
            "|0001526863|2015|      5.0|\n",
            "|0001526863|2016|     4.75|\n",
            "|0001526863|2017|      5.0|\n",
            "+----------+----+---------+\n",
            "\n"
          ]
        }
      ],
      "source": [
        "#média de avaliação para cada ano do proxuto x\n",
        "(my_data.filter(F.col('asin') == '0001526863')\n",
        "  .groupBy('asin', \n",
        "           F.year('reviewDate').alias('Ano'))\n",
        "              .agg(F.round(F.avg('overall'), 2).alias('Avaliação'))\n",
        "                .orderBy('Ano')).show()"
      ]
    },
    {
      "cell_type": "markdown",
      "metadata": {
        "id": "Xy9NY2n9NO9g"
      },
      "source": [
        "#PERGUNTA 2 - Desvio Padrão"
      ]
    },
    {
      "cell_type": "markdown",
      "metadata": {
        "id": "1z2a-wU4dOBN"
      },
      "source": [
        "Através do desvio padrão é possível ver o quanto os dados estão afastados da média, concluindo que quanto maior o desvio, mais as avaliações se distanciam da média. Ilustrando caso haja um produto com menos avaliações e mais média com relação a produtos de muitas avalições. Com estes resultados será possível realizar uma analise mais aprofundada sob os dados além de sua média e numeros de avaliações."
      ]
    },
    {
      "cell_type": "code",
      "execution_count": null,
      "metadata": {
        "id": "ufD9R2cwNRo2",
        "colab": {
          "base_uri": "https://localhost:8080/"
        },
        "outputId": "267462ff-40bc-4f6d-bc82-7e47d2d9187b"
      },
      "outputs": [
        {
          "output_type": "stream",
          "name": "stdout",
          "text": [
            "+----------+----------------+-----+-------------+\n",
            "|      asin|total_avaliacoes|media|desvio_padrao|\n",
            "+----------+----------------+-----+-------------+\n",
            "|0783218923|              90| 4.51|         0.89|\n",
            "|0783225911|             314| 4.68|         0.69|\n",
            "|6300185117|             113| 4.65|         0.71|\n",
            "|630025545X|              34| 3.94|         1.35|\n",
            "|6301008944|             343| 4.62|         0.68|\n",
            "|6301304977|              15|  4.2|         1.21|\n",
            "|630165191X|              95| 4.27|         1.08|\n",
            "|0800129016|              13| 3.85|         1.57|\n",
            "|0963093932|              17| 4.71|         0.59|\n",
            "|1569383529|              16| 4.63|         0.89|\n",
            "|1573626163|              33|  4.7|         0.64|\n",
            "|6300216144|              33| 4.48|         0.76|\n",
            "|6300215628|             351| 4.57|          0.8|\n",
            "|6300988597|               7| 4.71|         0.49|\n",
            "|6301423682|              88|  2.9|         1.31|\n",
            "|0783111509|              46| 4.61|         0.74|\n",
            "|0792158202|             986| 4.72|         0.71|\n",
            "|0793961009|             139| 3.41|         1.57|\n",
            "|084252455X|               7| 4.71|         0.49|\n",
            "|1586171941|              79| 4.81|         0.64|\n",
            "+----------+----------------+-----+-------------+\n",
            "only showing top 20 rows\n",
            "\n"
          ]
        }
      ],
      "source": [
        "#calculando a média e desvio padrão de avaliações por produto\n",
        "(my_data\n",
        "      .select('asin', 'overall')\n",
        "      .groupBy('asin')\n",
        "        .agg(\n",
        "          F.count(\"asin\").alias(\"total_avaliacoes\"),\n",
        "          F.round(F.avg('overall'),2).alias('media'),\n",
        "          F.round(F.stddev('overall'),2).alias('desvio_padrao')\n",
        ")).show(20)\n",
        "\n"
      ]
    },
    {
      "cell_type": "markdown",
      "metadata": {
        "id": "WrZr1QXvl1J7"
      },
      "source": [
        "#PERGUNTA 3 - ANÁLISE DE SENTIMENTO"
      ]
    },
    {
      "cell_type": "markdown",
      "metadata": {
        "id": "Ahji6qZVl4OK"
      },
      "source": [
        "Através de todas as informações da base é possível realizar uma análise de sentimento do texto, traçando um padrão entre os textos e suas notas é possível utilizar um modelo preditivo afim de prever qual nota o usuário daria a um texto, com base nessa informação, o objetivo será retornar se foi uma avaliação ruim, neutra ou boa.\n",
        "\n",
        "- O modelo utilizado foi a Regressão Linear, que pelos testes entregou o melhor resultado.\n"
      ]
    },
    {
      "cell_type": "markdown",
      "metadata": {
        "id": "GV95RmDxxvyq"
      },
      "source": [
        "Agrupamento dos textos\n",
        "\n",
        "Nesta etapa foi selecionado os textos e suas notas, pois sao as informações necessárias para aplicar ao modelo. As notas variam numa escala de 1 a 5, porém para saber se a avaliação é ruim, neutra ou boa, so precisariamos de 3 notas, que são normalizadas para tal. Notas a baixo de 2 consideramos como \"ruim\" ( 1 ), notas iguais a 3 como \"neutras\" ( 2 ) e notas acima de 3 como \"boas\" ( 3 ).\n",
        "\n",
        "> Obs: por o modelo linear tem como entrada uma coluna \"label\" na qual se atribui às avaliações, então foi criada uma nova coluna \"label\" com as notas ja normalizadas para o problema.\n",
        "\n",
        "> Obs2: Foi necessário reduzir o tamanho do dataset, pois resultava em um tempo de fit muito alto e alguns casos atingia o limite de memória presente no collab, desta forma separamos uma pequena fração para que possa executar e fazer os testes varias vezes. Usar execução via gpu resolveria, porém o pyspark não estava usando em nenhum momento."
      ]
    },
    {
      "cell_type": "code",
      "execution_count": null,
      "metadata": {
        "id": "CBGTF5DsxzCK"
      },
      "outputs": [],
      "source": [
        "my_data = all_data.sample(fraction = 0.03, seed = 1)\n",
        "\n",
        "# .sample(fraction=0.01, seed=1)\n",
        "text_data = (\n",
        "    my_data\n",
        "      .select(\"asin\",\"reviewText\",\"overall\")\n",
        "      .filter(F.col('reviewText').isNotNull())\n",
        ")\n",
        "\n",
        "#NORMALIZAÇÃO DAS NOTAS\n",
        "text_data = text_data.withColumn('label', F.when(text_data['overall'] <= 2, 1).when(text_data['overall'] == 3, 2).otherwise(3)).drop('overall')\n",
        "#verificar se há campos nulos\n",
        "# text_data.filter(F.col(\"reviewText\").isNull()).count()"
      ]
    },
    {
      "cell_type": "code",
      "execution_count": null,
      "metadata": {
        "colab": {
          "base_uri": "https://localhost:8080/"
        },
        "id": "KOOdN36dgr6X",
        "outputId": "71d4fe7c-0034-464b-b534-afbd1f391da4"
      },
      "outputs": [
        {
          "output_type": "execute_result",
          "data": {
            "text/plain": [
              "102222"
            ]
          },
          "metadata": {},
          "execution_count": 64
        }
      ],
      "source": [
        "text_data.count()"
      ]
    },
    {
      "cell_type": "markdown",
      "metadata": {
        "id": "We1QFT4ldcjs"
      },
      "source": [
        "Aqui se vê necessário separar os dados para o treinamento e para o teste final, utilizando \"randomSplit\", é possível separa-los em 2 lista sem repetir nenhum valor em ambas."
      ]
    },
    {
      "cell_type": "code",
      "execution_count": null,
      "metadata": {
        "id": "lZ1vZxVvlDJF"
      },
      "outputs": [],
      "source": [
        "(trainingData, testData) = text_data.randomSplit([0.9, 0.01], seed=123 )\n",
        "# testData.count()"
      ]
    },
    {
      "cell_type": "code",
      "execution_count": null,
      "metadata": {
        "id": "_f1gQ9LqCtUq"
      },
      "outputs": [],
      "source": [
        "#imports\n",
        "from pyspark.ml import Pipeline\n",
        "from pyspark.ml.feature import HashingTF, IDF\n",
        "from pyspark.ml.classification import LinearSVC, LogisticRegression\n",
        "\n",
        "from sparknlp.annotator import LemmatizerModel, Stemmer, Tokenizer, StopWordsCleaner, Normalizer, YakeKeywordExtraction, Chunker, PerceptronModel\n",
        "from sparknlp.base import DocumentAssembler, Finisher"
      ]
    },
    {
      "cell_type": "code",
      "execution_count": null,
      "metadata": {
        "colab": {
          "base_uri": "https://localhost:8080/"
        },
        "id": "_P3_ZWP-UHBW",
        "outputId": "ca967a27-4207-4065-9eff-be70335229be"
      },
      "outputs": [
        {
          "name": "stderr",
          "output_type": "stream",
          "text": [
            "[nltk_data] Downloading package stopwords to /root/nltk_data...\n",
            "[nltk_data]   Unzipping corpora/stopwords.zip.\n"
          ]
        }
      ],
      "source": [
        "import nltk\n",
        "from nltk.corpus import stopwords\n",
        "nltk.download('stopwords')\n",
        "eng_stopwords = stopwords.words('english')"
      ]
    },
    {
      "cell_type": "markdown",
      "metadata": {
        "id": "nLk6CMidsuXn"
      },
      "source": [
        "Transformações do sparkNLP para remover o máximo de caracteres indesejados e ambiguidades dos textos, pois simbolos e palavras parecidas em contextos (notas) diferentes interferem muito na precisão do modelo ao classifica-las."
      ]
    },
    {
      "cell_type": "code",
      "execution_count": null,
      "metadata": {
        "colab": {
          "base_uri": "https://localhost:8080/"
        },
        "id": "wunoYk-i9szg",
        "outputId": "0cadfd26-5e43-4cd8-ed00-2759f32443df"
      },
      "outputs": [
        {
          "name": "stdout",
          "output_type": "stream",
          "text": [
            "lemma_antbnc download started this may take some time.\n",
            "Approximate size to download 907.6 KB\n",
            "[OK!]\n",
            "stopwords_en download started this may take some time.\n",
            "Approximate size to download 2.9 KB\n",
            "[OK!]\n",
            "pos_anc download started this may take some time.\n",
            "Approximate size to download 3.9 MB\n",
            "[OK!]\n"
          ]
        }
      ],
      "source": [
        "document_assembler = DocumentAssembler() \\\n",
        "      .setInputCol(\"reviewText\") \\\n",
        "      .setOutputCol(\"document\")\n",
        "\n",
        "tokenizer = Tokenizer() \\\n",
        "    .setInputCols([\"document\"]) \\\n",
        "    .setOutputCol(\"tokenized\")\n",
        "\n",
        "normalizer = Normalizer() \\\n",
        "    .setInputCols([\"tokenized\"]) \\\n",
        "    .setOutputCol(\"normalized\") \\\n",
        "    .setLowercase(True)\n",
        "\n",
        "lemmatizer = LemmatizerModel.pretrained() \\\n",
        "    .setInputCols([\"normalized\"]) \\\n",
        "    .setOutputCol(\"lemmatized\")\n",
        "\n",
        "stop_words = StopWordsCleaner.pretrained() \\\n",
        "    .setInputCols([\"lemmatized\"]) \\\n",
        "    .setOutputCol(\"cleanTokens\") \\\n",
        "    .setStopWords(eng_stopwords)\n",
        "\n",
        "pos_tagger = PerceptronModel.pretrained('pos_anc') \\\n",
        "  .setInputCols(['document','lemmatized']) \\\n",
        "  .setOutputCol('pos')\n",
        "\n",
        "allowed_tags = ['<JJ>+<NN>','<NN>+<NN>']\n",
        "chunker = Chunker() \\\n",
        "  .setInputCols(['document','pos']) \\\n",
        "  .setOutputCol('ngrams') \\\n",
        "  .setRegexParsers(allowed_tags)\n",
        "\n",
        "finisher = Finisher() \\\n",
        "  .setInputCols(['cleanTokens','ngrams'])\n",
        "\n",
        "npl_pipeline = Pipeline(stages=[document_assembler, tokenizer, normalizer,lemmatizer,stop_words,pos_tagger, chunker, finisher])"
      ]
    },
    {
      "cell_type": "markdown",
      "metadata": {
        "id": "S6cduUEUekHf"
      },
      "source": [
        "Ajuste final para concatenação de duas colunas resultantes da transformação e retornar com os dados ja processados"
      ]
    },
    {
      "cell_type": "code",
      "execution_count": null,
      "metadata": {
        "id": "KG4QB5kB2lph"
      },
      "outputs": [],
      "source": [
        "def transformData(data, label = True):\n",
        "  processed = npl_pipeline.fit(data).transform(data)\n",
        "  processed = processed.select('asin', 'reviewText','label', 'finished_cleanTokens','finished_ngrams' )  \\\n",
        "            .withColumn('finishedTokens', \n",
        "            F.concat(F.col('finished_cleanTokens'),\n",
        "                      F.col('finished_ngrams')))\n",
        "  return processed"
      ]
    },
    {
      "cell_type": "code",
      "execution_count": null,
      "metadata": {
        "id": "fTpy4k_JoVtL"
      },
      "outputs": [],
      "source": [
        "trainingData = transformData(trainingData)\n",
        "testData = transformData(testData)"
      ]
    },
    {
      "cell_type": "code",
      "execution_count": null,
      "metadata": {
        "colab": {
          "base_uri": "https://localhost:8080/"
        },
        "id": "ATRLqk5a1y6l",
        "outputId": "8cb308f9-4fe3-4e6d-a1ac-9979ee25e0ba"
      },
      "outputs": [
        {
          "name": "stdout",
          "output_type": "stream",
          "text": [
            "+----------+--------------------+-----+--------------------+\n",
            "|      asin|          reviewText|label|      finishedTokens|\n",
            "+----------+--------------------+-----+--------------------+\n",
            "|0005019281|Every few Christm...|    3|[every, christmas...|\n",
            "|0005019281|Fine acting by He...|    3|[fine, act, henry...|\n",
            "|0005019281|I have searched f...|    3|[search, film, ye...|\n",
            "|0005019281|I thought his was...|    3|[think, great, tw...|\n",
            "|0005019281|This is your clas...|    3|[classic, christm...|\n",
            "|0005119367|This is my favori...|    3|[favorite, paul, ...|\n",
            "|0005119367|         all good ty|    3| [good, ty, good ty]|\n",
            "|0006486576|Slavishly faithfu...|    1|[slavishly, faith...|\n",
            "|0307142493|I could never rem...|    3|[could, never, re...|\n",
            "|0307142493|I love how all of...|    3|[love, rankinbass...|\n",
            "|0510539610|If you leak urine...|    3|[leak, urine, mig...|\n",
            "|0767001311|Don't be put off ...|    3|[dont, put, comme...|\n",
            "|0767001311|The funniest Seas...|    3|[funny, season, b...|\n",
            "|0767020294|I bought this mov...|    3|[buy, movie, add,...|\n",
            "|0767020294|This is a loose v...|    3|[loose, version, ...|\n",
            "|0767023765|I liked it primar...|    3|[like, primarily,...|\n",
            "|0767087372|One of the most s...|    3|[one, successful,...|\n",
            "|0767087372|               great|    3|             [great]|\n",
            "|0767088247|Gave as a gift--h...|    3|[give, gifthe, lo...|\n",
            "|076780192X|Fun movie. Watche...|    3|[fun, movie, watc...|\n",
            "+----------+--------------------+-----+--------------------+\n",
            "only showing top 20 rows\n",
            "\n"
          ]
        }
      ],
      "source": [
        "trainingData.show()"
      ]
    },
    {
      "cell_type": "markdown",
      "metadata": {
        "id": "X4oDtaswSIOf"
      },
      "source": [
        "#REGRESSÃO LINEAR - ANÁLISE DE SENTIMENTO"
      ]
    },
    {
      "cell_type": "markdown",
      "metadata": {
        "id": "0pmtNhnBe4vF"
      },
      "source": [
        "Regressão Linear, por ser um modelo preditivo e supervisionado ( utiliza as notas como rotulo ), é necessário realizar alguns processos a mais para que o modelo possa funcionar da melhor forma com a classificação dos textos: \n",
        "\n",
        "* Primeiramente é necessário criar uma representação numérica do texto, utilizando HasingTF, no qual utiliza da frequencia dos termos presente no texto, para em seguida fazer um mapeamento do mesmo como saída.\n",
        "\n",
        "* Em seguida, a transformação IDF é usada para ajustar os pesos de cada palavra no vetor de características gerado pelo HashingTF. Ela fará o calculo da importancia de cada palavra em relação ao conjunto de documentos e ajusta os valores de cada palavra de acordo com essa importância.\n",
        "\n",
        "* Por fim, essas transformações são uteis para melhorar o desempenho do modelo, fazendo com que ele leve em conta a importancia de cada palavra na predição do resultado. No caso da regressao com family=\"multinomial\", as transformaçoes sao necessarias para lidar com dados textuais em formato numérico e para melhorar a precisão do modelo ao considerar a relevancia de cada palavra na classificaçao dos dados em diferentes categorias (notas)."
      ]
    },
    {
      "cell_type": "code",
      "execution_count": null,
      "metadata": {
        "id": "kLAdyixJrWNg"
      },
      "outputs": [],
      "source": [
        "hashingTF = HashingTF(inputCol='finishedTokens', outputCol=\"features\")\n",
        "idf = IDF(inputCol='features', outputCol=\"tfidf\")\n",
        "lr = LogisticRegression(maxIter=10, regParam=0.0001, elasticNetParam=0.0, family=\"multinomial\" )"
      ]
    },
    {
      "cell_type": "code",
      "execution_count": null,
      "metadata": {
        "id": "Z32R_XgYnlJ7"
      },
      "outputs": [],
      "source": [
        "pipeline = Pipeline(stages=[hashingTF , idf, lr])"
      ]
    },
    {
      "cell_type": "code",
      "execution_count": null,
      "metadata": {
        "colab": {
          "background_save": true
        },
        "id": "p9Eq-Hq43TqT"
      },
      "outputs": [],
      "source": [
        "model = pipeline.fit(trainingData)"
      ]
    },
    {
      "cell_type": "code",
      "execution_count": null,
      "metadata": {
        "colab": {
          "background_save": true
        },
        "id": "F5MBsMJi3VdS"
      },
      "outputs": [],
      "source": [
        "predictions = model.transform(testData)"
      ]
    },
    {
      "cell_type": "markdown",
      "metadata": {
        "id": "t2_JVtfDhR80"
      },
      "source": [
        "Após todas o treinamento e finalização do modelo aplicado aos dados de teste separados anteriormente, podemos calcular sua precisão, fazendo uma contagem de quanto os dados da coluna resultante \"prediction\" do modelo comparados as notas reais atribuídas ao texto."
      ]
    },
    {
      "cell_type": "code",
      "execution_count": null,
      "metadata": {
        "id": "U6AhyyQVmUwM"
      },
      "outputs": [],
      "source": [
        "def showAccuracy(predictions):\n",
        "  accuracy = predictions.filter(predictions.label == predictions.prediction).count() / float(transformData(testData).count())\n",
        "  # Print accuracy\n",
        "  print(\"Accuracy = {:.2%}\".format(accuracy))"
      ]
    },
    {
      "cell_type": "code",
      "execution_count": null,
      "metadata": {
        "colab": {
          "background_save": true
        },
        "id": "BEPi2ThTIYu0",
        "outputId": "c9ba24d7-2350-42fd-a01c-d690dd14a241"
      },
      "outputs": [
        {
          "name": "stdout",
          "output_type": "stream",
          "text": [
            "Accuracy = 97.29%\n"
          ]
        }
      ],
      "source": [
        "accuracy = predictions.filter(predictions.label == predictions.prediction).count() / float(transformData(testData).count())\n",
        "\n",
        "# Print accuracy\n",
        "print(\"Accuracy = {:.2%}\".format(accuracy))"
      ]
    },
    {
      "cell_type": "markdown",
      "metadata": {
        "id": "y_gVcwLUKcW5"
      },
      "source": [
        "sem tratamento dos dados (apenas token), sem normalização das notas\n",
        "* Accuracy = 55.94% utilizando 1 % da base\n",
        "* Accuracy = 58.36% utilizando 80%\n",
        "\n",
        "com tratamentos adicionais e maior fração de dados.\n",
        "* Accuracy = 67.61% 90% 90, 50, 0.01\n",
        "\n",
        "com normalização \n",
        "* Accuracy = 83.62% 0.00005, 0.00001, maxIter=20, regParam=0.0001\n",
        "* Accuracy = 83.7% 0.00005, 0.00001, maxIter=5, regParam=0.0001\n",
        "* Accuracy = 93.77% com uso de ngrams \n",
        "\n",
        "* Accuracy = 97.29% com todos os tratamentos ( normalizer, lemmatizer, stop_words, pos_tagger, chunker, ngrams )\n",
        "\n",
        "> execução: 15 minutos"
      ]
    },
    {
      "cell_type": "markdown",
      "metadata": {
        "id": "AM9KKnZ6iQIp"
      },
      "source": [
        "Exibição dos resultados inserindo uma nova coluna com base em sua avaliação"
      ]
    },
    {
      "cell_type": "code",
      "execution_count": null,
      "metadata": {
        "colab": {
          "background_save": true
        },
        "id": "qK98bgK7nbfq",
        "outputId": "a68bc0a0-eab0-4536-a06d-df181d3f515c"
      },
      "outputs": [
        {
          "name": "stdout",
          "output_type": "stream",
          "text": [
            "+----------+--------------------+----------+-----+---------+\n",
            "|      asin|          reviewText|prediction|label|Avaliação|\n",
            "+----------+--------------------+----------+-----+---------+\n",
            "|0005019281|Every few Christm...|       3.0|    3|      boa|\n",
            "|0005019281|Fine acting by He...|       3.0|    3|      boa|\n",
            "|0005019281|I have searched f...|       3.0|    3|      boa|\n",
            "|0005019281|I thought his was...|       3.0|    3|      boa|\n",
            "|0005019281|This is your clas...|       3.0|    3|      boa|\n",
            "|0005119367|This is my favori...|       3.0|    3|      boa|\n",
            "|0005119367|         all good ty|       3.0|    3|      boa|\n",
            "|0006486576|Slavishly faithfu...|       1.0|    1| negativa|\n",
            "|0307142493|I could never rem...|       3.0|    3|      boa|\n",
            "|0307142493|I love how all of...|       3.0|    3|      boa|\n",
            "|0510539610|If you leak urine...|       3.0|    3|      boa|\n",
            "|0767001311|Don't be put off ...|       3.0|    3|      boa|\n",
            "|0767001311|The funniest Seas...|       3.0|    3|      boa|\n",
            "|0767020294|I bought this mov...|       3.0|    3|      boa|\n",
            "|0767020294|This is a loose v...|       3.0|    3|      boa|\n",
            "|0767023765|I liked it primar...|       3.0|    3|      boa|\n",
            "|0767087372|One of the most s...|       3.0|    3|      boa|\n",
            "|0767087372|               great|       3.0|    3|      boa|\n",
            "|0767088247|Gave as a gift--h...|       3.0|    3|      boa|\n",
            "|076780192X|Fun movie. Watche...|       3.0|    3|      boa|\n",
            "|076780192X|It's a great movi...|       3.0|    3|      boa|\n",
            "|076780192X|Laserdisc collect...|       3.0|    3|      boa|\n",
            "|076780192X|So glad to be abl...|       3.0|    3|      boa|\n",
            "|076780192X|This film (probab...|       3.0|    3|      boa|\n",
            "|076780192X|This is not a doc...|       3.0|    3|      boa|\n",
            "|0767802799|I am one who usua...|       2.0|    2|   neutra|\n",
            "|0767802799|good movies to ha...|       3.0|    3|      boa|\n",
            "|0767803434|        Great movie!|       3.0|    3|      boa|\n",
            "|0767803434|I'm former milita...|       3.0|    3|      boa|\n",
            "|0767803434|This is probably ...|       3.0|    3|      boa|\n",
            "|0767803434|To me the best th...|       3.0|    3|      boa|\n",
            "|0767803434|Two Wolfgang Pete...|       3.0|    3|      boa|\n",
            "|0767803434|Very exciting but...|       3.0|    3|      boa|\n",
            "|0767803434|While the basic s...|       3.0|    3|      boa|\n",
            "|0767804325|\"Absence of Malic...|       3.0|    3|      boa|\n",
            "|0767804325|Great drama and g...|       3.0|    3|      boa|\n",
            "|0767804325|Great modern clas...|       3.0|    3|      boa|\n",
            "|0767804325|This movie dragge...|       1.0|    1| negativa|\n",
            "|0767805534|Classic that must...|       3.0|    3|      boa|\n",
            "|0767805534|It is a beautiful...|       3.0|    3|      boa|\n",
            "|0767805534|Not the classic I...|       3.0|    1|      boa|\n",
            "|0767805534|There really isn'...|       3.0|    3|      boa|\n",
            "|0767805712|Gattaca is an exc...|       3.0|    3|      boa|\n",
            "|0767805712| Good Sci-Fi picture|       3.0|    3|      boa|\n",
            "|0767805712|Great look into t...|       3.0|    3|      boa|\n",
            "|0767805712|I wasted almost 2...|       1.0|    1| negativa|\n",
            "|0767805712|In a future where...|       2.0|    2|   neutra|\n",
            "|0767805712|It's a comparativ...|       3.0|    3|      boa|\n",
            "|0767805712|Some information ...|       1.0|    1| negativa|\n",
            "|0767805712|This is the best ...|       3.0|    3|      boa|\n",
            "|0767805712|This is truly a g...|       3.0|    3|      boa|\n",
            "|0767805712|With an entertain...|       3.0|    3|      boa|\n",
            "|0767809254|    Good chick flick|       3.0|    3|      boa|\n",
            "|0767809254|I just love the w...|       3.0|    3|      boa|\n",
            "|0767809254|Love this film! A...|       3.0|    3|      boa|\n",
            "|0767809254|Purchased as a re...|       3.0|    3|      boa|\n",
            "|0767809254|Steel Magnolias i...|       3.0|    3|      boa|\n",
            "|0767809726|great movie  to c...|       3.0|    3|      boa|\n",
            "|0767811089|With lines like t...|       3.0|    3|      boa|\n",
            "|0767815335|movie is much bet...|       3.0|    2|      boa|\n",
            "|0767815963|This is one of my...|       3.0|    3|      boa|\n",
            "|0767817486|         oh Billy...|       3.0|    3|      boa|\n",
            "|0767817664|I saw the trailer...|       3.0|    3|      boa|\n",
            "|0767817664|In the middle of ...|       3.0|    3|      boa|\n",
            "|0767817664|Sooo hoky and che...|       3.0|    3|      boa|\n",
            "|0767817664|This movie did no...|       2.0|    2|   neutra|\n",
            "|0767819454|love the movie wo...|       3.0|    3|      boa|\n",
            "|0767819462|This is a 5, to m...|       3.0|    3|      boa|\n",
            "|0767819519|Ok, I rented this...|       2.0|    2|   neutra|\n",
            "|0767821610|I can remember wh...|       3.0|    3|      boa|\n",
            "|0767821807|Love this movie.k...|       3.0|    3|      boa|\n",
            "|0767824555|This is, at the v...|       3.0|    3|      boa|\n",
            "|0767824555|Very realistic fi...|       3.0|    3|      boa|\n",
            "|0767824571|I think this is o...|       3.0|    3|      boa|\n",
            "|0767824571|Lame and predicta...|       1.0|    1| negativa|\n",
            "|0767824571|Monty Python's be...|       3.0|    3|      boa|\n",
            "|0767824571|Nothing can be ad...|       3.0|    3|      boa|\n",
            "|0767824571|One of the best c...|       3.0|    3|      boa|\n",
            "|0767824571|This movie is gre...|       3.0|    3|      boa|\n",
            "|0767826728|I like this one i...|       3.0|    3|      boa|\n",
            "|0767826728|The sole survivor...|       2.0|    2|   neutra|\n",
            "|0767827686|Great HD version ...|       3.0|    3|      boa|\n",
            "|0767827759|Being a big fan o...|       3.0|    3|      boa|\n",
            "|0767827759|I must say I was ...|       2.0|    2|   neutra|\n",
            "|0767827759|I still imagine h...|       3.0|    3|      boa|\n",
            "|0767830555|Gritty realism th...|       2.0|    2|   neutra|\n",
            "|0767830555|I find it hard to...|       1.0|    1| negativa|\n",
            "|0767830555|In 1976, Martin S...|       3.0|    3|      boa|\n",
            "|0767830555|Taxi Driver is a ...|       3.0|    3|      boa|\n",
            "|0767830555|Taxi Driver is by...|       3.0|    3|      boa|\n",
            "|0767830555|This is just not ...|       3.0|    3|      boa|\n",
            "|0767834739|But I love all th...|       3.0|    3|      boa|\n",
            "|0767834739|I don't usually g...|       2.0|    2|   neutra|\n",
            "|0767834739|If you're looking...|       1.0|    1| negativa|\n",
            "|0767834739|It seems that one...|       3.0|    3|      boa|\n",
            "|0767834739|Milla is the zomb...|       3.0|    3|      boa|\n",
            "|0767834739|My son is current...|       3.0|    3|      boa|\n",
            "|0767834739|Paul Anderson sho...|       1.0|    1| negativa|\n",
            "|0767834739|This BD has great...|       3.0|    3|      boa|\n",
            "|0767834739|This is one of th...|       1.0|    1| negativa|\n",
            "|0767834739|This one is prett...|       2.0|    2|   neutra|\n",
            "|0767835069|Outstanding perfo...|       3.0|    3|      boa|\n",
            "|0767836359|A vivid story tha...|       3.0|    3|      boa|\n",
            "|0767836359|I grew up there a...|       3.0|    3|      boa|\n",
            "|0767836359|If you like any m...|       3.0|    3|      boa|\n",
            "|0767836359|Robert Redford ca...|       3.0|    3|      boa|\n",
            "|0767836359|Robert Redford ha...|       3.0|    3|      boa|\n",
            "|0767836359|Some people will ...|       3.0|    3|      boa|\n",
            "|0767837398|I had heard so mu...|       3.0|    3|      boa|\n",
            "|0767839129|I had to stop aft...|       1.0|    1| negativa|\n",
            "|0767839129|if u like action ...|       3.0|    3|      boa|\n",
            "|0767839277|My 2 year old kid...|       3.0|    3|      boa|\n",
            "|0767839277|This is pretty go...|       3.0|    3|      boa|\n",
            "|0767853636|A Classic Story a...|       3.0|    3|      boa|\n",
            "|0767853636|CLASSIC! CLASSIC!...|       3.0|    3|      boa|\n",
            "|0767853636|It is a shame tha...|       1.0|    1| negativa|\n",
            "|0767853636|It's still a grea...|       3.0|    3|      boa|\n",
            "|0767853636|Really good, sque...|       3.0|    3|      boa|\n",
            "|0767853636|Still our favorit...|       3.0|    3|      boa|\n",
            "|0767853636|This is a great m...|       3.0|    3|      boa|\n",
            "|0767853636|This was my daugh...|       3.0|    3|      boa|\n",
            "|0767853636|Well worth the pr...|       3.0|    3|      boa|\n",
            "|0767882938|Educating Rita is...|       3.0|    3|      boa|\n",
            "|0780020855|Biopic on R.J. Re...|       2.0|    2|   neutra|\n",
            "|0780020855|In the summer and...|       3.0|    3|      boa|\n",
            "|0780022386|favorite movie of...|       3.0|    3|      boa|\n",
            "|0780620372|Characters are di...|       2.0|    2|   neutra|\n",
            "|0780621832|It was even bette...|       3.0|    3|      boa|\n",
            "|0780621832|          not to bad|       3.0|    3|      boa|\n",
            "|0780621956|Thank you so very...|       3.0|    3|      boa|\n",
            "|0780621956|This is the scari...|       3.0|    3|      boa|\n",
            "|0780621956|    it's an ok movie|       2.0|    3|   neutra|\n",
            "|0780622383|              Great!|       3.0|    3|      boa|\n",
            "|0780622537|Evil never wins. ...|       2.0|    2|   neutra|\n",
            "|0780622537|Great movie. Keep...|       3.0|    3|      boa|\n",
            "|0780622537|   Love the movie...|       3.0|    3|      boa|\n",
            "|0780622537|The DVD arrived i...|       3.0|    3|      boa|\n",
            "|0780623614|Great comedic twi...|       3.0|    3|      boa|\n",
            "|0780623614|Lots of fun.  Som...|       3.0|    3|      boa|\n",
            "|0780623614|This is a pretty ...|       3.0|    3|      boa|\n",
            "|0780623614|While movies abou...|       3.0|    3|      boa|\n",
            "|078062582X|Demi Moore as a s...|       1.0|    1| negativa|\n",
            "|078062582X|So a friend and I...|       3.0|    3|      boa|\n",
            "|078062582X|This was like a b...|       1.0|    1| negativa|\n",
            "|0780626699|Alfred Hitchcock ...|       3.0|    3|      boa|\n",
            "|0780627822|                Good|       3.0|    3|      boa|\n",
            "|0780627822|I just love this ...|       3.0|    3|      boa|\n",
            "|0780630866|nightmare 3 is th...|       3.0|    3|      boa|\n",
            "|0780635299|A very mediocre m...|       2.0|    2|   neutra|\n",
            "|0780635299|I must say I actu...|       3.0|    3|      boa|\n",
            "|0780635299|I really like thi...|       3.0|    3|      boa|\n",
            "|0780635299|Johnny Depp is TH...|       3.0|    3|      boa|\n",
            "|0780635299|Very well done po...|       3.0|    3|      boa|\n",
            "|078065062X|To get an in dept...|       3.0|    3|      boa|\n",
            "|0780662504|     Not that scary.|       3.0|    1|      boa|\n",
            "|0782006752|The chemistry bet...|       3.0|    3|      boa|\n",
            "|0782008372|\"Highlander\" is g...|       3.0|    3|      boa|\n",
            "|0782008372|1986's \"Highlande...|       3.0|    3|      boa|\n",
            "|0782008372|All of these movi...|       3.0|    3|      boa|\n",
            "|0782008372|Beautiful directi...|       3.0|    3|      boa|\n",
            "|0782008372|great, original, ...|       3.0|    3|      boa|\n",
            "|0782008372|when it was on th...|       2.0|    2|   neutra|\n",
            "|0782010040|I believe this is...|       3.0|    3|      boa|\n",
            "|0782010040|Save your money o...|       1.0|    1| negativa|\n",
            "|078201061X|One of the great ...|       3.0|    3|      boa|\n",
            "|0782010792|Every Home Should...|       3.0|    3|      boa|\n",
            "|0782010792|    Family favorite.|       3.0|    3|      boa|\n",
            "|0782010792|Finally I was abl...|       3.0|    3|      boa|\n",
            "|0782010792|I already have th...|       3.0|    3|      boa|\n",
            "|0782010792|If you're a fan o...|       3.0|    3|      boa|\n",
            "|0782010792|Like many of you,...|       3.0|    3|      boa|\n",
            "|0782010792|Since I cut my ca...|       3.0|    3|      boa|\n",
            "|0782010792|The quintessentia...|       3.0|    3|      boa|\n",
            "|0782010792|This is a traditi...|       3.0|    3|      boa|\n",
            "|0782010792|This is the sappi...|       3.0|    3|      boa|\n",
            "|0782010792|This movie never ...|       3.0|    3|      boa|\n",
            "|0782010792|With all the unce...|       3.0|    3|      boa|\n",
            "|0783110901|Very interesting ...|       3.0|    3|      boa|\n",
            "|0783110960|I was astounded w...|       3.0|    3|      boa|\n",
            "|0783112750|         Excellent !|       3.0|    3|      boa|\n",
            "|0783112750|Gripping drama-If...|       3.0|    3|      boa|\n",
            "|0783112750|Interesting show ...|       3.0|    3|      boa|\n",
            "|0783112750|considering it fo...|       3.0|    3|      boa|\n",
            "|0783114729|           excellent|       3.0|    3|      boa|\n",
            "|0783116926|A scary ghost mov...|       3.0|    3|      boa|\n",
            "|0783116926|This is a very su...|       3.0|    3|      boa|\n",
            "|0783116926|To this day, I wi...|       3.0|    3|      boa|\n",
            "|0783209967|          Great gift|       3.0|    3|      boa|\n",
            "|0783211694|You just can't be...|       3.0|    3|      boa|\n",
            "|0783217048|                Good|       3.0|    3|      boa|\n",
            "|0783218923|This was a fun mo...|       3.0|    3|      boa|\n",
            "|0783222726|         Love it!!!!|       3.0|    3|      boa|\n",
            "|078322561X|I really didn't l...|       1.0|    1| negativa|\n",
            "|078322561X|             classic|       3.0|    3|      boa|\n",
            "|0783225857|...\\n...the film ...|       3.0|    3|      boa|\n",
            "|0783225857| Great classic movie|       3.0|    3|      boa|\n",
            "|0783225857|I bought this one...|       3.0|    3|      boa|\n",
            "|0783225857|I had watched thi...|       3.0|    3|      boa|\n",
            "|0783225857|One of the greate...|       3.0|    3|      boa|\n",
            "|0783225857|What can I say. G...|       3.0|    3|      boa|\n",
            "|0783225911|I love this movie...|       3.0|    3|      boa|\n",
            "|0783226799|love this movie! ...|       3.0|    3|      boa|\n",
            "|0783226853|My wife and I lov...|       3.0|    3|      boa|\n",
            "|0783226853|This movie has lo...|       3.0|    3|      boa|\n",
            "|078322687X|                  A+|       3.0|    3|      boa|\n",
            "|078322687X|GREAT MOVIE, FUNN...|       3.0|    3|      boa|\n",
            "|078322687X|        Great  movie|       3.0|    3|      boa|\n",
            "|078322687X|Highly recommende...|       2.0|    2|   neutra|\n",
            "|078322687X|If you have seen ...|       3.0|    3|      boa|\n",
            "|078322687X|It was good. Taki...|       3.0|    3|      boa|\n",
            "|078322687X|One of my favorit...|       3.0|    3|      boa|\n",
            "|0783226985|I'm a fan of Bruc...|       3.0|    3|      boa|\n",
            "|0783226985|So far everything...|       3.0|    3|      boa|\n",
            "|0783227272|         A must see.|       3.0|    3|      boa|\n",
            "|0783227272|GREAT ACTING AND ...|       3.0|    3|      boa|\n",
            "|0783227272|Great Movie. A go...|       3.0|    3|      boa|\n",
            "|0783227272|Heart breaking tr...|       3.0|    3|      boa|\n",
            "|0783227272|This isn't a good...|       1.0|    1| negativa|\n",
            "|0783227272|We lived out of t...|       3.0|    3|      boa|\n",
            "|078322740X|Martin and Hawn p...|       3.0|    3|      boa|\n",
            "|078322740X|This is a very fu...|       3.0|    3|      boa|\n",
            "|0783227892|Perfect condition...|       3.0|    3|      boa|\n",
            "|0783227892|mom loves it.  hu...|       1.0|    1| negativa|\n",
            "|0783227922|College Grads, Mi...|       3.0|    3|      boa|\n",
            "|0783228341|W.C. Fields was s...|       3.0|    3|      boa|\n",
            "|0783228686|I like Patrick sw...|       3.0|    3|      boa|\n",
            "|078322947X|I love it that yo...|       3.0|    3|      boa|\n",
            "|078322947X|Such a strange da...|       3.0|    3|      boa|\n",
            "|0783229569|Best drug culture...|       3.0|    3|      boa|\n",
            "|0783229569|Depp carries the ...|       3.0|    3|      boa|\n",
            "|0783229569|I love this movie...|       3.0|    3|      boa|\n",
            "|0783229569|I love this movie...|       3.0|    3|      boa|\n",
            "|0783229569|Loved it! Was funny!|       3.0|    3|      boa|\n",
            "|0783229569|Raoul Duke and Do...|       3.0|    3|      boa|\n",
            "|0783229569|This review is no...|       2.0|    2|   neutra|\n",
            "|078322995X|Came out late 90'...|       3.0|    3|      boa|\n",
            "|078322995X|It has something ...|       3.0|    3|      boa|\n",
            "|078322995X|My grandson found...|       3.0|    3|      boa|\n",
            "|0783230346|Great price and h...|       3.0|    3|      boa|\n",
            "|0783230346|If I have to expl...|       3.0|    3|      boa|\n",
            "|0783230346|This is a great a...|       3.0|    3|      boa|\n",
            "|0783230427|Not a sci-fit goo...|       2.0|    2|   neutra|\n",
            "|0783231032|FUNNY!!!! always ...|       3.0|    3|      boa|\n",
            "|0783231032|        Hall of Fame|       3.0|    3|      boa|\n",
            "|0783231032|Wanna watch Akroy...|       2.0|    2|   neutra|\n",
            "|0783231032|      a great movie1|       3.0|    3|      boa|\n",
            "|0783234287|          Great film|       3.0|    3|      boa|\n",
            "|0783234287|This movie is pre...|       3.0|    3|      boa|\n",
            "|0783234287|a classic, Boris ...|       3.0|    3|      boa|\n",
            "|0783235380|If you've seen on...|       1.0|    1| negativa|\n",
            "|0783235380|Just rewatched th...|       3.0|    3|      boa|\n",
            "|0783239408|Amazing story, ex...|       3.0|    3|      boa|\n",
            "|0783239408|American Beauty i...|       3.0|    3|      boa|\n",
            "|0783239408|Excellent acting!...|       3.0|    3|      boa|\n",
            "|0783239408|I don't know why ...|       1.0|    1| negativa|\n",
            "|0783239408|Incredible dramed...|       3.0|    3|      boa|\n",
            "|0783239408|Indeed an Oscar-w...|       3.0|    3|      boa|\n",
            "|0783239408|                  Ok|       2.0|    3|   neutra|\n",
            "|0783239408|This film is very...|       3.0|    3|      boa|\n",
            "|0783239408|This is a wonderf...|       3.0|    3|      boa|\n",
            "|0783239408|Very retro.  but ...|       3.0|    3|      boa|\n",
            "|0783239408|Was a good movie....|       3.0|    3|      boa|\n",
            "|0783239408|      fantastic film|       3.0|    3|      boa|\n",
            "|0783239955|The first time I ...|       3.0|    3|      boa|\n",
            "|0783240473|I like baseball. ...|       1.0|    1| negativa|\n",
            "|0783240473|         Mommy Like!|       3.0|    3|      boa|\n",
            "|0783240473|great experience ...|       3.0|    3|      boa|\n",
            "|0783241313|Man On The Moon i...|       3.0|    3|      boa|\n",
            "|0783241569|          Good movie|       3.0|    3|      boa|\n",
            "|0783241569|I enjoyed both co...|       3.0|    3|      boa|\n",
            "|0783241569|Seen it 100 times...|       3.0|    3|      boa|\n",
            "|0783243499|Christian Bale. W...|       3.0|    3|      boa|\n",
            "|0783243499|Excellent perform...|       3.0|    3|      boa|\n",
            "|0783243499|         Good movie!|       3.0|    3|      boa|\n",
            "|0783243499|I wasn't sure wha...|       3.0|    3|      boa|\n",
            "|0783243499|If you own or saw...|       3.0|    3|      boa|\n",
            "|0783243499|When I walked out...|       3.0|    3|      boa|\n",
            "|0783243499|With its extra fi...|       3.0|    3|      boa|\n",
            "|0783245130|One of the best o...|       3.0|    3|      boa|\n",
            "|078400949X|Old time, before ...|       3.0|    3|      boa|\n",
            "|0784010331|               Great|       3.0|    3|      boa|\n",
            "|0784010331|They really don't...|       3.0|    3|      boa|\n",
            "|0784010331|Total Recall is c...|       1.0|    1| negativa|\n",
            "|0784011370|Starring the one ...|       3.0|    3|      boa|\n",
            "|0784011532|Great , one of my...|       3.0|    3|      boa|\n",
            "|0784011532|Very good action ...|       3.0|    3|      boa|\n",
            "|0784011648|Love this movie, ...|       3.0|    3|      boa|\n",
            "|0784011648|Needs no review. ...|       3.0|    3|      boa|\n",
            "|0784011648|Old curmudgeon, N...|       3.0|    3|      boa|\n",
            "|0784011648|               Super|       3.0|    3|      boa|\n",
            "|0784011648|This gag worthy a...|       1.0|    1| negativa|\n",
            "|0784011648|   Very satisfactory|       3.0|    3|      boa|\n",
            "|0784011680|Robert Downey Jr....|       3.0|    3|      boa|\n",
            "|0784011680|The quality was g...|       3.0|    3|      boa|\n",
            "|0784013470|\"Stir of Echoes\" ...|       3.0|    3|      boa|\n",
            "|0784013470|EVERYBODY THINKS ...|       1.0|    1| negativa|\n",
            "|0784013470|This movie has al...|       3.0|    3|      boa|\n",
            "|0784013470|Tom and Maggie Wi...|       2.0|    2|   neutra|\n",
            "|0784013470|While not a parti...|       3.0|    3|      boa|\n",
            "|0788600931|I have owned this...|       3.0|    3|      boa|\n",
            "|0788600931|Where were you wh...|       3.0|    3|      boa|\n",
            "|0788802194|A classic forever...|       3.0|    3|      boa|\n",
            "|0788802194|Great movie, I en...|       3.0|    3|      boa|\n",
            "|0788802194|  Loved my purchase!|       3.0|    3|      boa|\n",
            "|0788802194|The product arriv...|       3.0|    3|      boa|\n",
            "|0788802194|This is a wonderf...|       3.0|    3|      boa|\n",
            "|0788810634|GAVE THEM TO MY N...|       3.0|    3|      boa|\n",
            "|0788814664|Call me an old fu...|       1.0|    1| negativa|\n",
            "|0788814664|Great movie, stor...|       3.0|    3|      boa|\n",
            "|0788814664|I'd seen this fil...|       1.0|    1| negativa|\n",
            "|0788814664|Loved the movie! ...|       3.0|    3|      boa|\n",
            "|0788814664|Robin Williams an...|       3.0|    3|      boa|\n",
            "|0788814664|Thank you very mu...|       3.0|    3|      boa|\n",
            "|0788814664|    Very good movie!|       3.0|    3|      boa|\n",
            "|0788814664|          good movie|       3.0|    3|      boa|\n",
            "|0788814664|great movie glad ...|       3.0|    3|      boa|\n",
            "|0788815474|Keep the Kleenex ...|       3.0|    3|      boa|\n",
            "|0788821075|           A classic|       3.0|    3|      boa|\n",
            "|0788821075|A feel good movie...|       3.0|    3|      boa|\n",
            "|0788821075|Finally saw this ...|       3.0|    3|      boa|\n",
            "|0788821075|           Fun movie|       3.0|    3|      boa|\n",
            "|0788821075|I had this on DVD...|       3.0|    3|      boa|\n",
            "|0788821075|This movie is jus...|       3.0|    3|      boa|\n",
            "|0788821075|With enough said ...|       3.0|    3|      boa|\n",
            "|0788821075|love this movie o...|       3.0|    3|      boa|\n",
            "|0788832182|A brilliant movie...|       3.0|    3|      boa|\n",
            "|0788832182|Lilo & Stitch is ...|       3.0|    3|      boa|\n",
            "|0788832182|  One of my favorite|       3.0|    3|      boa|\n",
            "|0788832182|                  eh|       1.0|    2| negativa|\n",
            "|0788832182|gotta love Disney...|       3.0|    3|      boa|\n",
            "|0788832182|              so sad|       3.0|    3|      boa|\n",
            "|0788832492|          GREAT FILM|       3.0|    3|      boa|\n",
            "|0788832492|         Very funny.|       3.0|    3|      boa|\n",
            "|078885383X|We got it earlier...|       3.0|    3|      boa|\n",
            "|0788857746|Flightplan / B000...|       1.0|    1| negativa|\n",
            "|0788857746|Kyle Pratt is a f...|       3.0|    3|      boa|\n",
            "|078885996X|Great Christmas t...|       3.0|    3|      boa|\n",
            "|078885996X|I bought this for...|       3.0|    3|      boa|\n",
            "|078885996X|Movie arrived on ...|       3.0|    3|      boa|\n",
            "|078885996X|Not happy at all ...|       1.0|    1| negativa|\n",
            "|078885996X|One of the Muppet...|       3.0|    3|      boa|\n",
            "|078885996X|This is another o...|       3.0|    3|      boa|\n",
            "|078885996X|This movie has be...|       1.0|    1| negativa|\n",
            "|078885996X|This story is abo...|       3.0|    3|      boa|\n",
            "|0788860119|I admired and res...|       3.0|    3|      boa|\n",
            "|0788860119|Still great. Not ...|       3.0|    3|      boa|\n",
            "|0788861956|Desperate Housewi...|       2.0|    2|   neutra|\n",
            "|0788861956|GOT TO SAY I LIVE...|       3.0|    3|      boa|\n",
            "|078887148X|Enchanted is a fu...|       2.0|    2|   neutra|\n",
            "|078887148X|Giselle is an ani...|       2.0|    2|   neutra|\n",
            "|078887148X|             Love it|       3.0|    3|      boa|\n",
            "|078887148X|Loved the movie -...|       3.0|    3|      boa|\n",
            "|078887148X|This is not playa...|       1.0|    1| negativa|\n",
            "|078887148X|This movie is one...|       3.0|    3|      boa|\n",
            "|078887148X|What would happen...|       3.0|    3|      boa|\n",
            "|078887148X|this movie was aw...|       3.0|    3|      boa|\n",
            "|0788872796|                gift|       3.0|    3|      boa|\n",
            "|0790724960|I know this is su...|       3.0|    3|      boa|\n",
            "|0790725657|Enjoyable for fam...|       3.0|    3|      boa|\n",
            "|0790725657|I remember watchi...|       3.0|    3|      boa|\n",
            "|0790725657|Very nice childre...|       3.0|    3|      boa|\n",
            "|0790729342|          A classic!|       3.0|    3|      boa|\n",
            "|0790729342|This classic movi...|       2.0|    2|   neutra|\n",
            "|0790729377|Brutal Brando, I ...|       3.0|    3|      boa|\n",
            "|0790729377|This is another o...|       3.0|    3|      boa|\n",
            "|0790729377|Well acted and st...|       3.0|    3|      boa|\n",
            "|079072961X|\"The Fugitive\" to...|       3.0|    3|      boa|\n",
            "|079072961X|Good movie and wi...|       3.0|    3|      boa|\n",
            "|079072961X|Harrison Ford, gr...|       3.0|    3|      boa|\n",
            "|079072961X|Movie well made. ...|       3.0|    3|      boa|\n",
            "|079072961X|The Fugitive is o...|       3.0|    3|      boa|\n",
            "|079072961X|This is just a gr...|       3.0|    3|      boa|\n",
            "|0790729628|1. Stunning visua...|       2.0|    2|   neutra|\n",
            "|0790729628|           A classic|       3.0|    3|      boa|\n",
            "|0790729628|A classic yet sti...|       3.0|    3|      boa|\n",
            "|0790729628|All these years l...|       3.0|    3|      boa|\n",
            "|0790729628|Alright, I'm not ...|       1.0|    1| negativa|\n",
            "|0790729628|An excellent comp...|       3.0|    3|      boa|\n",
            "|0790729628|An old favorite e...|       3.0|    3|      boa|\n",
            "|0790729628|Another fantastic...|       3.0|    3|      boa|\n",
            "|0790729628|Excellent movie f...|       3.0|    3|      boa|\n",
            "|0790729628|GOOD SIFI  MOVE E...|       3.0|    3|      boa|\n",
            "|0790729628|Great quality! Th...|       3.0|    3|      boa|\n",
            "|0790729628|I am a bit of a f...|       2.0|    2|   neutra|\n",
            "|0790729628|I am not what you...|       3.0|    3|      boa|\n",
            "|0790729628|I can't believe t...|       1.0|    1| negativa|\n",
            "|0790729628|I've owned the or...|       3.0|    3|      boa|\n",
            "|0790729628|In reference to \"...|       3.0|    3|      boa|\n",
            "|0790729628|In the supplement...|       3.0|    3|      boa|\n",
            "|0790729628|Influential? Yes....|       1.0|    1| negativa|\n",
            "|0790729628|One of my favorit...|       3.0|    3|      boa|\n",
            "|0790729628|One of the BEST s...|       3.0|    3|      boa|\n",
            "|0790729628|The item arrived ...|       3.0|    3|      boa|\n",
            "|0790729628|Very dark. Harris...|       2.0|    2|   neutra|\n",
            "|0790729628|What else is ther...|       3.0|    3|      boa|\n",
            "|0790729628|When \"Blade Runne...|       3.0|    3|      boa|\n",
            "|0790729628|great classic sci...|       3.0|    3|      boa|\n",
            "|0790729644|Great Eastwood mo...|       3.0|    3|      boa|\n",
            "|0790729644|Great western.  T...|       3.0|    3|      boa|\n",
            "|0790729644|If you're a Clint...|       3.0|    3|      boa|\n",
            "|0790729644|Probably one of t...|       3.0|    3|      boa|\n",
            "|0790729687|   Ann Rice classic.|       3.0|    3|      boa|\n",
            "|0790729687|This film, based ...|       3.0|    3|      boa|\n",
            "|0790729687|in this otherwise...|       1.0|    1| negativa|\n",
            "|0790729709|Good movie to hav...|       3.0|    3|      boa|\n",
            "|0790729709|More Whitney Hous...|       3.0|    3|      boa|\n",
            "|0790729733|                  :)|       3.0|    3|      boa|\n",
            "|0790729733|I like the movie ...|       3.0|    3|      boa|\n",
            "|0790729733|It would be real ...|       3.0|    3|      boa|\n",
            "|0790729733|This is a film th...|       3.0|    3|      boa|\n",
            "|0790729989|Whats in the booo...|       3.0|    3|      boa|\n",
            "|0790731266|I think this is a...|       3.0|    3|      boa|\n",
            "|0790732149|After I saw this ...|       3.0|    3|      boa|\n",
            "|0790732181|    Did not like it.|       3.0|    1|      boa|\n",
            "|0790732181|For people of the...|       3.0|    3|      boa|\n",
            "|0790732181|I agree with most...|       3.0|    3|      boa|\n",
            "|0790732181|Jack Nicholson is...|       3.0|    3|      boa|\n",
            "|0790732181|Probably one of t...|       3.0|    3|      boa|\n",
            "|0790732181|This is a classic...|       3.0|    3|      boa|\n",
            "|0790732181|This movie stands...|       3.0|    3|      boa|\n",
            "|0790732300|DIRTY HARRY has s...|       3.0|    3|      boa|\n",
            "|0790732300|San Francisco in ...|       3.0|    3|      boa|\n",
            "|0790732300|This is a very so...|       3.0|    3|      boa|\n",
            "|0790732521|Great movie that ...|       3.0|    3|      boa|\n",
            "|0790732521|I have watched th...|       3.0|    3|      boa|\n",
            "|0790732521|Son loved this mo...|       3.0|    3|      boa|\n",
            "|0790733226|Don't think they ...|       3.0|    3|      boa|\n",
            "|0790733226|In some ways, thi...|       3.0|    3|      boa|\n",
            "|0790733226|Saw this years ag...|       3.0|    3|      boa|\n",
            "|0790733226|The movie is one ...|       3.0|    3|      boa|\n",
            "|0790733226|This movie is one...|       3.0|    3|      boa|\n",
            "|0790733919|I think this movi...|       3.0|    3|      boa|\n",
            "|0790733927|       Great DVD set|       3.0|    3|      boa|\n",
            "|0790733927|This movie is out...|       3.0|    3|      boa|\n",
            "|079073463X|I have loved this...|       3.0|    3|      boa|\n",
            "|079073463X|This has long bee...|       3.0|    3|      boa|\n",
            "|079073463X|This is my all ti...|       3.0|    3|      boa|\n",
            "|079073463X|To bad I waited s...|       3.0|    3|      boa|\n",
            "|0790734966|Interesting perso...|       3.0|    3|      boa|\n",
            "|0790736527|Like C.S. Lewis' ...|       3.0|    3|      boa|\n",
            "|0790736527|               great|       3.0|    3|      boa|\n",
            "|0790737647|With performances...|       3.0|    3|      boa|\n",
            "|0790737744|Clint plays a cop...|       2.0|    2|   neutra|\n",
            "|0790737868|   It's interesting.|       3.0|    2|      boa|\n",
            "|0790737868|Terrence Malick's...|       3.0|    3|      boa|\n",
            "|0790740281|This movie is oft...|       3.0|    3|      boa|\n",
            "|0790740664|Cute movie for a ...|       3.0|    3|      boa|\n",
            "|0790741296|I can't get enoug...|       3.0|    3|      boa|\n",
            "|0790741431|first saw movie w...|       3.0|    3|      boa|\n",
            "|0790741644|*** This review m...|       2.0|    2|   neutra|\n",
            "|0790741644|I am so anti gwen...|       3.0|    3|      boa|\n",
            "|0790743213|A case of mistake...|       3.0|    3|      boa|\n",
            "|0790743213|No introduction r...|       3.0|    3|      boa|\n",
            "|0790743213|Super classic fil...|       3.0|    3|      boa|\n",
            "|0790743213|whoever remastere...|       3.0|    3|      boa|\n",
            "|0790744236|I just sat down t...|       3.0|    3|      boa|\n",
            "|0790744236|My latest viewing...|       3.0|    3|      boa|\n",
            "|0790744236|Outstanding John ...|       3.0|    3|      boa|\n",
            "|0790744546|I was thrilled to...|       3.0|    3|      boa|\n",
            "|079074676X|I don't understan...|       3.0|    3|      boa|\n",
            "|079074676X|Item arrived in p...|       3.0|    3|      boa|\n",
            "|079074676X|The same reason f...|       3.0|    3|      boa|\n",
            "|079074676X|This magical film...|       3.0|    3|      boa|\n",
            "|0790747693|          Excellent!|       3.0|    3|      boa|\n",
            "|0790748193|As a writer, I'm ...|       2.0|    2|   neutra|\n",
            "|0790748193|                Good|       3.0|    3|      boa|\n",
            "|0790748193|Great movie but I...|       3.0|    3|      boa|\n",
            "|0790748193|Great! Definately...|       3.0|    3|      boa|\n",
            "|0790748193|   It was good movie|       3.0|    3|      boa|\n",
            "|0790748193|Loved this movie....|       3.0|    3|      boa|\n",
            "|0790748193|Very happy with p...|       3.0|    3|      boa|\n",
            "|0790748266|All the Pokemon s...|       3.0|    3|      boa|\n",
            "|079074886X|          Enjoyable.|       3.0|    3|      boa|\n",
            "|0790750414|Is a guy who has ...|       2.0|    2|   neutra|\n",
            "|0790750414|One of the things...|       3.0|    3|      boa|\n",
            "|0790750732|I remember this c...|       3.0|    3|      boa|\n",
            "|0790751569|Fast repsonse goo...|       3.0|    3|      boa|\n",
            "|079075181X|Very Nice Movie f...|       3.0|    3|      boa|\n",
            "|0790785366|I was a small chi...|       3.0|    3|      boa|\n",
            "|0790785366|I was in high sch...|       3.0|    3|      boa|\n",
            "|079079568X|Paul Newman is on...|       3.0|    3|      boa|\n",
            "|079079568X|There were three ...|       3.0|    3|      boa|\n",
            "|079079568X|Wanted to include...|       3.0|    3|      boa|\n",
            "|0792102320|A long rambling e...|       3.0|    3|      boa|\n",
            "|0792102320|      Good war film.|       3.0|    3|      boa|\n",
            "|0792102320|I have been a fan...|       3.0|    3|      boa|\n",
            "|0792102320|John Wayne, Kirk ...|       3.0|    3|      boa|\n",
            "|0792102320|Kirk Douglas and ...|       3.0|    3|      boa|\n",
            "|0792102320|Most of the older...|       3.0|    3|      boa|\n",
            "|0792102320|Not a typical war...|       3.0|    3|      boa|\n",
            "|0792102320|Wonderful movie, ...|       3.0|    3|      boa|\n",
            "|0792102320|         great movie|       3.0|    3|      boa|\n",
            "|0792110188|         GREAT MOVIE|       3.0|    3|      boa|\n",
            "|0792110188|Great John Wayne ...|       3.0|    3|      boa|\n",
            "|0792110188|I love  it  very ...|       3.0|    3|      boa|\n",
            "|0792110188|This is one of my...|       3.0|    3|      boa|\n",
            "|0792110188|Very good movie a...|       3.0|    3|      boa|\n",
            "|0792110188|arrived on time. ...|       3.0|    3|      boa|\n",
            "|0792115465|This collection c...|       3.0|    3|      boa|\n",
            "|0792115465|This collection w...|       3.0|    3|      boa|\n",
            "+----------+--------------------+----------+-----+---------+\n",
            "only showing top 500 rows\n",
            "\n"
          ]
        }
      ],
      "source": [
        "(predictions.select('asin','reviewText',\"prediction\", \"label\")\n",
        "                      .withColumn(\"Avaliação\", \n",
        "                          F.when(predictions.prediction == 1, \"negativa\")\n",
        "                          .when(predictions.prediction == 2, \"neutra\")\n",
        "                          .otherwise(\"boa\")\n",
        "                    ).show(500))"
      ]
    },
    {
      "cell_type": "markdown",
      "source": [
        "Por conta da regressão linear sua precisão cai muito caso haja mais notas, pois fica cada vez mais dificil separar linearmente as categorias presentes no modelo. Normalizando para uma avaliação apenas \"boa\" ou \"ruim\" diminuiria ainda mais a margem de erro."
      ],
      "metadata": {
        "id": "uzw57RwJ1feg"
      }
    },
    {
      "cell_type": "code",
      "source": [
        "my_data = all_data.sample(fraction = 0.03, seed = 1)\n",
        "text_data = (\n",
        "    my_data\n",
        "      .select(\"asin\",\"reviewText\",\"overall\")\n",
        "      .filter(F.col('reviewText').isNotNull())\n",
        ")\n",
        "text_data = text_data.withColumn('label', F.when(text_data['overall'] <3, 1).otherwise(2)).drop('overall')"
      ],
      "metadata": {
        "id": "vkOJVNfcbQg8"
      },
      "execution_count": null,
      "outputs": []
    },
    {
      "cell_type": "code",
      "source": [
        "(trainingData, testData) = text_data.randomSplit([0.9, 0.01], seed=123 )"
      ],
      "metadata": {
        "id": "Z3mfDMKVbdbP"
      },
      "execution_count": null,
      "outputs": []
    },
    {
      "cell_type": "code",
      "source": [
        "trainingData = transformData(trainingData)\n",
        "testData = transformData(testData)\n",
        "model = pipeline.fit(trainingData)\n",
        "predictions = model.transform(testData)\n",
        "showAccuracy(predictions)\n",
        "predictions.select('asin','reviewText','label','prediction').show()"
      ],
      "metadata": {
        "colab": {
          "base_uri": "https://localhost:8080/"
        },
        "id": "QFzsb-ztblAP",
        "outputId": "8a6c7bdb-861b-41a4-c0a9-b9c070fb4cef"
      },
      "execution_count": null,
      "outputs": [
        {
          "output_type": "stream",
          "name": "stdout",
          "text": [
            "Accuracy = 84.65%\n",
            "+----------+--------------------+-----+----------+\n",
            "|      asin|          reviewText|label|prediction|\n",
            "+----------+--------------------+-----+----------+\n",
            "|0767809254|Steel Magnolias i...|    2|       2.0|\n",
            "|0767821807|Love this movie.k...|    2|       1.0|\n",
            "|0767839277|I purchased this ...|    2|       2.0|\n",
            "|0767853636|Outside of \"Wizar...|    2|       2.0|\n",
            "|0780623614|I found this movi...|    1|       2.0|\n",
            "|0782010040|john wayne at his...|    2|       2.0|\n",
            "|0782010792|If you're a fan o...|    2|       2.0|\n",
            "|0783110901|Very good movie t...|    2|       2.0|\n",
            "|0783225857|I used this in my...|    2|       2.0|\n",
            "|0783243499|American Psycho i...|    2|       1.0|\n",
            "|0784011680|Love him or leave...|    2|       2.0|\n",
            "|078885996X|A great take on D...|    2|       2.0|\n",
            "|0790729644|Excellent product...|    2|       2.0|\n",
            "|0790732181|I agree with most...|    2|       2.0|\n",
            "|0790732548|Good Movie. Glad ...|    2|       2.0|\n",
            "|0790734966|Interesting perso...|    2|       2.0|\n",
            "|0790740443|Soldier is one of...|    1|       1.0|\n",
            "|0790740664|Cute movie for a ...|    2|       2.0|\n",
            "|0790743213|Many people in my...|    2|       2.0|\n",
            "|0790785366|Love the mystery ...|    2|       2.0|\n",
            "+----------+--------------------+-----+----------+\n",
            "only showing top 20 rows\n",
            "\n"
          ]
        }
      ]
    },
    {
      "cell_type": "markdown",
      "source": [
        "Precisao real seria de 84%"
      ],
      "metadata": {
        "id": "Hf2N4Qz_CgFO"
      }
    }
  ],
  "metadata": {
    "colab": {
      "provenance": [],
      "toc_visible": true,
      "include_colab_link": true
    },
    "gpuClass": "standard",
    "kernelspec": {
      "display_name": "Python 3",
      "name": "python3"
    },
    "language_info": {
      "name": "python"
    }
  },
  "nbformat": 4,
  "nbformat_minor": 0
}